{
 "cells": [
  {
   "cell_type": "code",
   "execution_count": null,
   "metadata": {},
   "outputs": [],
   "source": [
    "import torch\n",
    "\n",
    "default_device_name = (\n",
    "         'cuda' if torch.cuda.is_available() \n",
    "    else 'mps' if torch.backends.mps.is_available() \n",
    "    else 'cpu'\n",
    ")\n",
    "\n",
    "device = torch.device('cuda' if torch.cuda.is_available() \n",
    "                else 'mps' if torch.backends.mps.is_available() \n",
    "                else 'cpu')"
   ]
  },
  {
   "cell_type": "code",
   "execution_count": null,
   "metadata": {},
   "outputs": [],
   "source": [
    "import kagglehub\n",
    "\n",
    "# Download latest version\n",
    "flower_path = kagglehub.dataset_download(\"olgabelitskaya/flower-color-images\")\n",
    "\n",
    "print(\"Path to dataset files:\", flower_path)"
   ]
  },
  {
   "cell_type": "code",
   "execution_count": null,
   "metadata": {},
   "outputs": [],
   "source": [
    "# 导入必要的库\n",
    "import torch\n",
    "import torch.nn as nn\n",
    "import torch.optim as optim\n",
    "from torch.utils.data import DataLoader, Dataset, Subset\n",
    "from torchvision import datasets, transforms\n",
    "\n",
    "import numpy as np\n",
    "import matplotlib.pyplot as plt\n",
    "\n",
    "import os\n",
    "from PIL import Image # pip install Pillow"
   ]
  },
  {
   "cell_type": "code",
   "execution_count": null,
   "metadata": {},
   "outputs": [],
   "source": [
    "class Flowers(Dataset):\n",
    "    def __init__(self, data_dir, transform=None):\n",
    "        self.image_paths = []\n",
    "        self.labels = []\n",
    "        self.transform = transform\n",
    "        \n",
    "        # 遍历数据集目录，获取所有图像文件的路径和标签\n",
    "        for filename in sorted(os.listdir(data_dir)):\n",
    "            image_path = os.path.join(data_dir, filename)\n",
    "            label = int(filename.split('_')[0])\n",
    "            self.image_paths.append(image_path)\n",
    "            self.labels.append(label)\n",
    "    \n",
    "    def __len__(self):\n",
    "        return len(self.labels)\n",
    "    \n",
    "    def __getitem__(self, idx):\n",
    "        # 加载图像数据和标签\n",
    "        image = Image.open(self.image_paths[idx]).convert('RGB')\n",
    "        label = self.labels[idx]\n",
    "        \n",
    "        # 对图像数据进行转换\n",
    "        if self.transform:\n",
    "            image = self.transform(image)\n",
    "        \n",
    "        # 将标签转换为PyTorch张量\n",
    "        label = torch.tensor(label, dtype=torch.long)\n",
    "        \n",
    "        return image, label"
   ]
  },
  {
   "cell_type": "code",
   "execution_count": null,
   "metadata": {},
   "outputs": [],
   "source": [
    "# 定义绘图函数，传入dataset即可\n",
    "def plot(dataset, shuffle=True, cmap=None):\n",
    "    # 创建数据加载器\n",
    "    dataloader = DataLoader(dataset, batch_size=4, shuffle=shuffle)\n",
    "    \n",
    "    # 取出一组数据\n",
    "    images, labels = next(iter(dataloader))\n",
    "    \n",
    "    # 将通道维度(C)移到最后一个维度，方便使用matplotlib绘图\n",
    "    images = np.transpose(images, (0, 2, 3, 1))  \n",
    "\n",
    "    # 创建2x2的子图对象\n",
    "    fig, axes = plt.subplots(nrows=2, ncols=2, figsize=(5, 5))\n",
    "\n",
    "    # 遍历每个子图，绘制图像并添加子图标题\n",
    "    for i, ax in enumerate(axes.flat):\n",
    "        ax.imshow(images[i], cmap=cmap)\n",
    "        ax.axis('off') # 隐藏坐标轴\n",
    "\n",
    "        if hasattr(dataset, 'classes'): # 如果数据集有预定义的类别名称，使用该名称作为子图标题\n",
    "            ax.set_title(dataset.classes[labels[i]], fontsize=12)\n",
    "        else: # 否则使用类别索引作为子图标题\n",
    "            ax.set_title(labels[i], fontsize=12)\n",
    "\n",
    "    plt.show()"
   ]
  },
  {
   "cell_type": "code",
   "execution_count": null,
   "metadata": {},
   "outputs": [],
   "source": [
    "# 定义一个测试函数，接收transform和cmap参数并显示图像\n",
    "# 其中cmap是指colormap，可以将数值映射成不同的颜色\n",
    "def show_flowers(transform, cmap=None):\n",
    "    # 使用Flowers数据集类加载数据集，传入路径及transform参数\n",
    "    dataset = Flowers(flower_path + '/flowers/flowers', transform = transform)\n",
    "    # 使用Subset对原始数据集进行划分，只划分为前4个样本便于查看\n",
    "    subset = Subset(dataset, [i for i in range(4)])\n",
    "    # 使用自定义的plot函数对划分的数据集进行可视化显示\n",
    "    plot(dataset, False, cmap)"
   ]
  },
  {
   "cell_type": "code",
   "execution_count": null,
   "metadata": {},
   "outputs": [],
   "source": [
    "# 定义数据转换方法\n",
    "transform = transforms.Compose([\n",
    "    transforms.Resize((128, 128)), # 调整图像大小为128x128\n",
    "    transforms.ToTensor(),  # 将数据转换为张量\n",
    "])\n",
    "# 读取数据集并显示\n",
    "dataset = Flowers(flower_path + '/flowers/flowers', transform = transform)\n",
    "show_flowers(transform)"
   ]
  },
  {
   "cell_type": "code",
   "execution_count": null,
   "metadata": {},
   "outputs": [],
   "source": [
    "transform = transforms.Compose([\n",
    "    transforms.Resize((28, 28)), # 调整图像大小为28x28，对应(h, w)\n",
    "    transforms.ToTensor(),  # 将数据转换为张量\n",
    "])\n",
    "show_flowers(transform)"
   ]
  },
  {
   "cell_type": "code",
   "execution_count": null,
   "metadata": {},
   "outputs": [],
   "source": [
    "transform = transforms.Compose([\n",
    "    transforms.Grayscale(), # 调整图像为灰度图，通道数变为1\n",
    "    transforms.ToTensor(),  # 将数据转换为张量\n",
    "])\n",
    "show_flowers(transform, cmap='gray')"
   ]
  },
  {
   "cell_type": "code",
   "execution_count": null,
   "metadata": {},
   "outputs": [],
   "source": [
    "# 标准化后的图像数据具有零均值和单位方差，可以提高神经网络的训练速度和精度，同时也可以减少训练过程中的梯度爆炸和梯度消失等问题\n",
    "transform = transforms.Compose([\n",
    "    transforms.ToTensor(),  # 将数据转换为张量\n",
    "    # 对三通道数据进行归一化(均值，标准差)，数值是从ImageNet数据集上的百万张图片中随机抽样计算得到\n",
    "    transforms.Normalize(mean=[0.485, 0.456, 0.406], std=[0.229, 0.224, 0.225]),\n",
    "])\n",
    "show_flowers(transform)"
   ]
  },
  {
   "cell_type": "code",
   "execution_count": null,
   "metadata": {},
   "outputs": [],
   "source": [
    "transform = transforms.Compose([\n",
    "    transforms.RandomRotation(degrees=90), # 随机旋转(-90, 90)度\n",
    "    transforms.ToTensor(),  # 将数据转换为张量\n",
    "])\n",
    "show_flowers(transform)"
   ]
  },
  {
   "cell_type": "code",
   "execution_count": null,
   "metadata": {},
   "outputs": [],
   "source": [
    "transform = transforms.Compose([\n",
    "    transforms.Resize((128, 128)), # 调整图像大小为128x128\n",
    "    transforms.CenterCrop(64), # 从中心位置开始裁剪指定大小\n",
    "    transforms.ToTensor(),  # 将数据转换为张量\n",
    "])\n",
    "show_flowers(transform)"
   ]
  },
  {
   "cell_type": "code",
   "execution_count": null,
   "metadata": {},
   "outputs": [],
   "source": [
    "transform = transforms.Compose([\n",
    "    transforms.Resize((128, 128)), # 调整图像大小为128x128\n",
    "    transforms.RandomCrop(64), # 从随机位置开始裁剪指定大小\n",
    "    transforms.ToTensor(),  # 将数据转换为张量\n",
    "])\n",
    "show_flowers(transform)"
   ]
  },
  {
   "cell_type": "code",
   "execution_count": null,
   "metadata": {},
   "outputs": [],
   "source": [
    "transform = transforms.Compose([\n",
    "    transforms.Resize((128, 128)), # 调整图像大小为128x128\n",
    "    transforms.GaussianBlur((5, 5)), # 对图像进行高斯模糊处理，高斯核大小为5x5\n",
    "    transforms.ToTensor(),  # 将数据转换为张量\n",
    "])\n",
    "show_flowers(transform)"
   ]
  },
  {
   "cell_type": "code",
   "execution_count": null,
   "metadata": {},
   "outputs": [],
   "source": [
    "ransform = transforms.Compose([\n",
    "    transforms.Resize((128, 128)), # 调整图像大小为128x128\n",
    "    transforms.ColorJitter( # 色彩随机调节\n",
    "        brightness=(0.5, 1.5), # 亮度\n",
    "        contrast=(0.5, 1.5), # 对比度\n",
    "        saturation=(0.5, 1.5), # 饱和度\n",
    "        hue=(-0.1, 0.1) # 色调\n",
    "    ), \n",
    "    transforms.ToTensor(),  # 将数据转换为张量\n",
    "])\n",
    "show_flowers(transform)"
   ]
  },
  {
   "cell_type": "code",
   "execution_count": null,
   "metadata": {},
   "outputs": [],
   "source": [
    "transform = transforms.Compose([\n",
    "    transforms.Resize((128, 128)), # 调整图像大小为128x128\n",
    "    transforms.RandomHorizontalFlip(p = 1), # 随机水平翻转\n",
    "    transforms.ToTensor(),  # 将数据转换为张量\n",
    "])\n",
    "show_flowers(transform)"
   ]
  },
  {
   "cell_type": "code",
   "execution_count": null,
   "metadata": {},
   "outputs": [],
   "source": [
    "transform = transforms.Compose([\n",
    "    transforms.Resize((128, 128)), # 调整图像大小为128x128\n",
    "    transforms.RandomVerticalFlip(p = 1), # 随机垂直翻转\n",
    "    transforms.ToTensor(),  # 将数据转换为张量\n",
    "])\n",
    "show_flowers(transform)"
   ]
  },
  {
   "cell_type": "code",
   "execution_count": null,
   "metadata": {},
   "outputs": [],
   "source": [
    "# 自定义AddNoise方法，用于向输入图像中添加噪声\n",
    "class AddNoise():\n",
    "    def __init__(self, noise_factor=0.2): # 噪声系数\n",
    "        self.noise_factor = noise_factor\n",
    "\n",
    "    def __call__(self, image):\n",
    "        noisy = image + torch.randn_like(image) * self.noise_factor # 向输入图像中添加随机噪声\n",
    "        noisy = torch.clamp(noisy, 0.0, 1.0) # 将噪声图像像素值限制在[0, 1]之间\n",
    "        return noisy\n",
    "\n",
    "transform = transforms.Compose([\n",
    "    transforms.Resize((128, 128)), # 调整图像大小为128x128\n",
    "    transforms.ToTensor(),  # 将数据转换为张量\n",
    "    AddNoise(), # 自定义方法，添加噪点\n",
    "])\n",
    "show_flowers(transform)"
   ]
  }
 ],
 "metadata": {
  "kernelspec": {
   "display_name": "all",
   "language": "python",
   "name": "python3"
  },
  "language_info": {
   "codemirror_mode": {
    "name": "ipython",
    "version": 3
   },
   "file_extension": ".py",
   "mimetype": "text/x-python",
   "name": "python",
   "nbconvert_exporter": "python",
   "pygments_lexer": "ipython3",
   "version": "3.11.10"
  }
 },
 "nbformat": 4,
 "nbformat_minor": 2
}
