{
 "cells": [
  {
   "cell_type": "markdown",
   "metadata": {},
   "source": [
    "### Mini-Batch/Batch/Stochastic"
   ]
  },
  {
   "cell_type": "code",
   "execution_count": null,
   "metadata": {},
   "outputs": [],
   "source": [
    "import torch\n",
    "\n",
    "def default_device():\n",
    "    if torch.cuda.is_available():\n",
    "        return torch.device('cuda')   \n",
    "    if torch.backends.mps.is_available():\n",
    "        return torch.device('mps')\n",
    "    return torch.device('cpu')\n",
    "\n",
    "device = default_device()"
   ]
  },
  {
   "cell_type": "code",
   "execution_count": null,
   "metadata": {},
   "outputs": [],
   "source": [
    "import torch.nn as nn\n",
    "import matplotlib.pyplot as plt\n",
    "import numpy as np\n",
    "from tqdm import *"
   ]
  },
  {
   "cell_type": "code",
   "execution_count": null,
   "metadata": {},
   "outputs": [],
   "source": [
    "class Model(nn.Module):\n",
    "    def __init__(self):\n",
    "        super(Model, self).__init__()\n",
    "        self.hideen1 = nn.Linear(1, 32)\n",
    "        self.hideen2 = nn.Linear(32, 32)\n",
    "        self.output = nn.Linear(32, 1)\n",
    "        \n",
    "    def forward(self, x):\n",
    "        x = torch.relu(self.hideen1(x))\n",
    "        x = torch.relu(self.hideen2(x))\n",
    "        return x\n"
   ]
  },
  {
   "cell_type": "code",
   "execution_count": null,
   "metadata": {},
   "outputs": [],
   "source": [
    "loss_fn = nn.MSELoss()"
   ]
  },
  {
   "cell_type": "code",
   "execution_count": null,
   "metadata": {},
   "outputs": [],
   "source": [
    "np.random.seed(0)\n",
    "n_samples = 1024\n",
    "x = np.linspace(-5, 5, n_samples)\n",
    "y = 0.3 * x * x + np.random.randn(n_samples)\n",
    "\n",
    "x = torch.unsqueeze(torch.from_numpy(x).float(), 1)\n",
    "y = torch.unsqueeze(torch.from_numpy(y).float(), 1)\n",
    "\n",
    "dataset = torch.utils.data.TensorDataset(x, y)\n",
    "\n",
    "names = ['Batch', \"Stochastic\", \"Mini-batch\"]\n",
    "batch_sizes = [n_samples, 1, 256]\n",
    "momentum = [1, 0, 1]\n",
    "losses =[[], [], []]\n",
    "\n",
    "learning_rate = 0.0001\n",
    "n_epochs = 1000\n",
    "\n",
    "for i in range(3):\n",
    "    model = Model()\n",
    "    optimizer = torch.optim.SGD(model.parameters(), lr=learning_rate, momentum=momentum[i])\n",
    "    loader = torch.utils.data.DataLoader(dataset, batch_size=batch_sizes[i], shuffle=True)\n",
    "    for epoch in tqdm(range(n_epochs), leave=True, desc=names[i], unit=' epoch'):\n",
    "        x_batch, y_batch = next(iter(loader))\n",
    "        optimizer.zero_grad()\n",
    "        y_pred = model(x_batch)\n",
    "        loss = loss_fn(y_pred, y_batch)\n",
    "        loss.backward()\n",
    "        optimizer.step()\n",
    "        losses[i].append(loss.item())\n"
   ]
  },
  {
   "cell_type": "code",
   "execution_count": null,
   "metadata": {},
   "outputs": [],
   "source": [
    "for i , lost_list in enumerate(losses):\n",
    "    plt.figure(figsize=(12,4))\n",
    "    plt.plot(lost_list, label=names[i])\n",
    "    plt.ylim(0, 15)\n",
    "    plt.xlabel('Epoch')\n",
    "    plt.ylabel('Loss')\n",
    "    plt.title(names[i])\n",
    "    plt.show()\n"
   ]
  }
 ],
 "metadata": {
  "kernelspec": {
   "display_name": "all",
   "language": "python",
   "name": "python3"
  },
  "language_info": {
   "codemirror_mode": {
    "name": "ipython",
    "version": 3
   },
   "file_extension": ".py",
   "mimetype": "text/x-python",
   "name": "python",
   "nbconvert_exporter": "python",
   "pygments_lexer": "ipython3",
   "version": "3.11.8"
  }
 },
 "nbformat": 4,
 "nbformat_minor": 2
}
