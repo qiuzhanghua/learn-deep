{
 "cells": [
  {
   "cell_type": "markdown",
   "metadata": {},
   "source": [
    "### Regularization"
   ]
  },
  {
   "cell_type": "code",
   "execution_count": null,
   "metadata": {},
   "outputs": [],
   "source": [
    "import torch\n",
    "\n",
    "def default_device():\n",
    "    if torch.cuda.is_available():\n",
    "        return torch.device('cuda')   \n",
    "    if torch.backends.mps.is_available():\n",
    "        return torch.device('mps')\n",
    "    return torch.device('cpu')\n",
    "\n",
    "device = default_device()"
   ]
  },
  {
   "cell_type": "code",
   "execution_count": null,
   "metadata": {},
   "outputs": [],
   "source": [
    "import torch.nn as nn\n",
    "import matplotlib.pyplot as plt\n",
    "import numpy as np\n"
   ]
  },
  {
   "cell_type": "code",
   "execution_count": null,
   "metadata": {},
   "outputs": [],
   "source": [
    "torch.manual_seed(42)\n",
    "n_samples = 20\n",
    "hidden_size = 200\n",
    "n_epochs = 500"
   ]
  },
  {
   "cell_type": "code",
   "execution_count": null,
   "metadata": {},
   "outputs": [],
   "source": [
    "x_train = torch.unsqueeze(torch.linspace(-1, 1, n_samples), 1).to(device)\n",
    "y_train = x_train + 0.3 * torch.randn(n_samples, 1).to(device)\n",
    "\n",
    "x_test = torch.unsqueeze(torch.linspace(-1, 1, n_samples), 1).to(device)\n",
    "y_test = x_test + 0.3 * torch.randn(n_samples, 1).to(device)\n",
    "\n",
    "plt.scatter(x_train.cpu(), y_train.cpu(), c='r', alpha=0.5, label='train')\n",
    "plt.scatter(x_test.cpu(), y_test.cpu(), c='b', alpha=0.5, label='test')\n",
    "plt.legend(loc='upper left')\n",
    "plt.ylim(-2, 2)\n",
    "plt.show()"
   ]
  },
  {
   "cell_type": "code",
   "execution_count": null,
   "metadata": {},
   "outputs": [],
   "source": [
    "net_overfit = nn.Sequential(\n",
    "    nn.Linear(1, hidden_size),\n",
    "    nn.ReLU(),\n",
    "    nn.Linear(hidden_size, hidden_size),\n",
    "    nn.ReLU(),\n",
    "    nn.Linear(hidden_size, 1)\n",
    ").to(device)\n",
    "\n",
    "net_dropout = nn.Sequential(\n",
    "    nn.Linear(1, hidden_size),\n",
    "    nn.Dropout(0.5),\n",
    "    nn.ReLU(),\n",
    "    nn.Linear(hidden_size, hidden_size),\n",
    "    nn.Dropout(0.5),\n",
    "    nn.ReLU(),\n",
    "    nn.Linear(hidden_size, 1)\n",
    ").to(device)\n"
   ]
  },
  {
   "cell_type": "code",
   "execution_count": null,
   "metadata": {},
   "outputs": [],
   "source": [
    "optimizer_overfit = torch.optim.Adam(net_overfit.parameters(), lr=0.01)\n",
    "optimizer_dropout = torch.optim.Adam(net_dropout.parameters(), lr=0.01)\n",
    "criterion = nn.MSELoss()\n",
    "\n",
    "for i in range(n_epochs):\n",
    "    pred_overfit = net_overfit(x_train)\n",
    "    loss_overfit = criterion(pred_overfit, y_train)\n",
    "    optimizer_overfit.zero_grad()\n",
    "    loss_overfit.backward()\n",
    "    optimizer_overfit.step()\n",
    "\n",
    "    pred_dropout = net_dropout(x_train)\n",
    "    loss_dropout = criterion(pred_dropout, y_train)\n",
    "    optimizer_dropout.zero_grad()\n",
    "    loss_dropout.backward()\n",
    "    optimizer_dropout.step()"
   ]
  },
  {
   "cell_type": "code",
   "execution_count": null,
   "metadata": {},
   "outputs": [],
   "source": [
    "net_overfit.eval()\n",
    "net_dropout.eval()\n",
    "\n",
    "test_pred_overfit = net_overfit(x_test)\n",
    "test_dropout_overfit = net_dropout(x_test)\n",
    "\n",
    "plt.scatter(x_train.cpu(), y_train.cpu(), c='r', alpha=0.5, label='train')\n",
    "plt.scatter(x_test.cpu(), y_test.cpu(), c='b', alpha=0.5, label='test')\n",
    "plt.plot(x_test.cpu(), test_pred_overfit.cpu().detach(), 'r', label='overfit')\n",
    "plt.plot(x_test.cpu(), test_dropout_overfit.cpu().detach(), 'g--', label='dropout')\n",
    "plt.legend(loc='upper left')\n",
    "plt.ylim(-2, 2)\n",
    "plt.show()\n"
   ]
  }
 ],
 "metadata": {
  "kernelspec": {
   "display_name": "all",
   "language": "python",
   "name": "python3"
  },
  "language_info": {
   "codemirror_mode": {
    "name": "ipython",
    "version": 3
   },
   "file_extension": ".py",
   "mimetype": "text/x-python",
   "name": "python",
   "nbconvert_exporter": "python",
   "pygments_lexer": "ipython3",
   "version": "3.11.8"
  }
 },
 "nbformat": 4,
 "nbformat_minor": 2
}
