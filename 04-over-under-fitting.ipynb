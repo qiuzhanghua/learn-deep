{
 "cells": [
  {
   "cell_type": "markdown",
   "metadata": {},
   "source": [
    "### Over Fitting/Under Fitting"
   ]
  },
  {
   "cell_type": "code",
   "execution_count": 15,
   "metadata": {},
   "outputs": [],
   "source": [
    "import torch\n",
    "\n",
    "def default_device():\n",
    "    if torch.cuda.is_available():\n",
    "        return torch.device('cuda')   \n",
    "    if torch.backends.mps.is_available():\n",
    "        return torch.device('mps')\n",
    "    return torch.device('cpu')\n",
    "\n",
    "device = default_device()"
   ]
  },
  {
   "cell_type": "code",
   "execution_count": 16,
   "metadata": {},
   "outputs": [],
   "source": [
    "import numpy as np\n",
    "import matplotlib.pyplot as plt\n",
    "import torch.nn as nn\n",
    "from torch.utils.data import DataLoader, TensorDataset\n",
    "from sklearn.model_selection import train_test_split"
   ]
  },
  {
   "cell_type": "code",
   "execution_count": 17,
   "metadata": {},
   "outputs": [],
   "source": [
    "np.random.seed(32)"
   ]
  },
  {
   "cell_type": "code",
   "execution_count": null,
   "metadata": {},
   "outputs": [],
   "source": [
    "num_samples = 100\n",
    "x = np.random.uniform(-5, 5, (num_samples, 1))\n",
    "y = x * x + 1 + np.random.normal(0, 1, (num_samples, 1))\n",
    "\n",
    "x = torch.from_numpy(x).float().to(device)\n",
    "y = torch.from_numpy(y).float().to(device)\n",
    "\n",
    "plt.scatter(x.cpu(), y.cpu())\n",
    "plt.show()"
   ]
  },
  {
   "cell_type": "code",
   "execution_count": 20,
   "metadata": {},
   "outputs": [],
   "source": [
    "train_x, test_x, train_y, test_y = train_test_split(x, y, test_size=0.3, random_state=0)\n",
    "train_dataloader = DataLoader(TensorDataset(train_x, train_y), batch_size=32, shuffle=True)\n",
    "test_dataloader = DataLoader(TensorDataset(test_x, test_y), batch_size=32, shuffle=False)\n"
   ]
  },
  {
   "cell_type": "code",
   "execution_count": 21,
   "metadata": {},
   "outputs": [],
   "source": [
    "# Under fitting\n",
    "class LinearRegression(nn.Module):\n",
    "    def __init__(self):\n",
    "        super(LinearRegression, self).__init__()\n",
    "        self.linear = nn.Linear(1, 1)\n",
    "\n",
    "    def forward(self, x):\n",
    "        return self.linear(x)\n",
    "\n",
    "# well fitting\n",
    "class MLP(nn.Module):\n",
    "    def __init__(self):\n",
    "        super(MLP, self).__init__()\n",
    "        self.hidden = nn.Linear(1, 8)\n",
    "        self.output = nn.Linear(8, 1)\n",
    "\n",
    "    def forward(self, x):\n",
    "        x = torch.relu(self.hidden(x))\n",
    "        return self.output(x)\n",
    "    \n",
    "# Over fitting\n",
    "class MLP2(nn.Module):\n",
    "    def __init__(self):\n",
    "        super(MLP2, self).__init__()\n",
    "        self.hidden1 = nn.Linear(1, 256)\n",
    "        self.hidden2 = nn.Linear(256, 256)\n",
    "        self.output = nn.Linear(256, 1)\n",
    "\n",
    "    def forward(self, x):\n",
    "        x = torch.relu(self.hidden1(x))\n",
    "        x = torch.relu(self.hidden2(x))\n",
    "        return self.output(x)"
   ]
  },
  {
   "cell_type": "code",
   "execution_count": 23,
   "metadata": {},
   "outputs": [],
   "source": [
    "def plot_error(models, n_epochs, train_dataloader, test_dataloader):\n",
    "    loss_fn = nn.MSELoss()\n",
    "    train_losses = []\n",
    "    test_losses = []\n",
    "\n",
    "    for model in models:\n",
    "        model.to(device)\n",
    "        optimizer = torch.optim.SGD(model.parameters(), lr=0.005)\n",
    "        criterion = nn.MSELoss()\n",
    "        train_losses_per_model = []\n",
    "        test_losses_per_model = []\n",
    "\n",
    "        for epoch in range(n_epochs):\n",
    "            model.train()\n",
    "            train_loss = 0\n",
    "            for x_batch, y_batch in train_dataloader:\n",
    "                optimizer.zero_grad()\n",
    "                y_pred = model(x_batch)\n",
    "                loss = criterion(y_pred, y_batch)\n",
    "                loss.backward()\n",
    "                optimizer.step()\n",
    "                train_loss += loss.item()\n",
    "            train_losses_per_model.append(train_loss / len(train_dataloader))\n",
    "            model.eval()\n",
    "            test_loss = 0\n",
    "            with torch.no_grad():\n",
    "                test_loss = sum(criterion(model(x_batch), y_batch).item() for x_batch, y_batch in test_dataloader)\n",
    "                test_losses_per_model.append(test_loss / len(test_dataloader))\n",
    "        train_losses.append(train_losses_per_model)\n",
    "        test_losses.append(test_losses_per_model)\n",
    "    return train_losses, test_losses\n"
   ]
  },
  {
   "cell_type": "code",
   "execution_count": null,
   "metadata": {},
   "outputs": [],
   "source": [
    "n_epochs = 200\n",
    "models = [LinearRegression(), MLP(), MLP2()]\n",
    "train_losses, test_losses = plot_error(models, n_epochs, train_dataloader, test_dataloader)\n",
    "train_losses = np.array(train_losses)\n",
    "test_losses = np.array(test_losses)\n",
    "train_losses, test_losses"
   ]
  },
  {
   "cell_type": "code",
   "execution_count": null,
   "metadata": {},
   "outputs": [],
   "source": [
    "for i, model in enumerate(models):\n",
    "    plt.figure(figsize=(8, 4))\n",
    "    plt.plot(range(n_epochs), train_losses[i], label=f'Train {model.__class__.__name__}')\n",
    "    plt.plot(range(n_epochs), test_losses[i], label=f'Test {model.__class__.__name__}')\n",
    "    plt.legend()\n",
    "    plt.ylim(0, 200)\n",
    "    plt.show()"
   ]
  }
 ],
 "metadata": {
  "kernelspec": {
   "display_name": "all",
   "language": "python",
   "name": "python3"
  },
  "language_info": {
   "codemirror_mode": {
    "name": "ipython",
    "version": 3
   },
   "file_extension": ".py",
   "mimetype": "text/x-python",
   "name": "python",
   "nbconvert_exporter": "python",
   "pygments_lexer": "ipython3",
   "version": "3.11.8"
  }
 },
 "nbformat": 4,
 "nbformat_minor": 2
}
