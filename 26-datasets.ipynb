{
 "cells": [
  {
   "cell_type": "code",
   "execution_count": null,
   "metadata": {},
   "outputs": [],
   "source": [
    "import torch\n",
    "\n",
    "default_device_name = (\n",
    "         'cuda' if torch.cuda.is_available() \n",
    "    else 'mps' if torch.backends.mps.is_available() \n",
    "    else 'cpu'\n",
    ")\n",
    "\n",
    "device = torch.device('cuda' if torch.cuda.is_available() \n",
    "                else 'mps' if torch.backends.mps.is_available() \n",
    "                else 'cpu')"
   ]
  },
  {
   "cell_type": "code",
   "execution_count": null,
   "metadata": {},
   "outputs": [],
   "source": [
    "import kagglehub\n",
    "\n",
    "# Download latest version\n",
    "fruit_path = kagglehub.dataset_download(\"araraltawil/fruit-101-dataset\")\n",
    "\n",
    "print(\"Path to dataset files:\", fruit_path)"
   ]
  },
  {
   "cell_type": "code",
   "execution_count": null,
   "metadata": {},
   "outputs": [],
   "source": [
    "import kagglehub\n",
    "\n",
    "# Download latest version\n",
    "flower_path = kagglehub.dataset_download(\"olgabelitskaya/flower-color-images\")\n",
    "\n",
    "print(\"Path to dataset files:\", flower_path)"
   ]
  },
  {
   "cell_type": "code",
   "execution_count": null,
   "metadata": {},
   "outputs": [],
   "source": [
    "# 导入必要的库\n",
    "import torch\n",
    "import torch.nn as nn\n",
    "import torch.optim as optim\n",
    "from torch.utils.data import DataLoader\n",
    "from torchvision import datasets, transforms\n",
    "\n",
    "import numpy as np\n",
    "import matplotlib.pyplot as plt"
   ]
  },
  {
   "cell_type": "code",
   "execution_count": null,
   "metadata": {},
   "outputs": [],
   "source": [
    "# 设置随机数种子\n",
    "torch.manual_seed(42)\n",
    "\n",
    "# 定义数据转换方法\n",
    "transform = transforms.Compose([\n",
    "    transforms.ToTensor(),  # 将数据转换为张量\n",
    "])\n",
    "\n",
    "# 加载训练数据\n",
    "train_dataset = datasets.MNIST(root='data', train=True, download=True, transform=transform)\n",
    "# 实例化训练数据加载器\n",
    "train_loader = DataLoader(train_dataset, batch_size=256, shuffle=True)\n",
    "# 加载测试数据\n",
    "test_dataset = datasets.MNIST(root='data', train=False, download=True, transform=transform)\n",
    "# 实例化测试数据加载器\n",
    "test_loader = DataLoader(test_dataset, batch_size=256, shuffle=False)"
   ]
  },
  {
   "cell_type": "code",
   "execution_count": null,
   "metadata": {},
   "outputs": [],
   "source": [
    "from torchvision.datasets import ImageFolder\n",
    "\n",
    "# 定义数据转换方法\n",
    "transform = transforms.Compose([\n",
    "    transforms.Resize((128, 128)), # 调整图像大小为128x128\n",
    "    transforms.ToTensor(),  # 将数据转换为张量\n",
    "])\n",
    "\n",
    "# 创建图像数据集\n",
    "# ImageFolder类会自动遍历指定目录下的所有子目录\n",
    "# 并将每个子目录中的图像文件视为同一类别的数据\n",
    "dataset = ImageFolder(fruit_path, transform = transform)"
   ]
  },
  {
   "cell_type": "code",
   "execution_count": null,
   "metadata": {},
   "outputs": [],
   "source": [
    "len(dataset), dataset.classes"
   ]
  },
  {
   "cell_type": "code",
   "execution_count": null,
   "metadata": {},
   "outputs": [],
   "source": [
    "# 定义绘图函数，传入dataset即可\n",
    "def plot(dataset, shuffle=True):\n",
    "    # 创建数据加载器\n",
    "    dataloader = DataLoader(dataset, batch_size=16, shuffle=shuffle)\n",
    "    \n",
    "    # 取出一组数据\n",
    "    images, labels = next(iter(dataloader))\n",
    "    \n",
    "    # 将通道维度(C)移到最后一个维度，方便使用matplotlib绘图\n",
    "    images = np.transpose(images, (0, 2, 3, 1))  \n",
    "\n",
    "    # 创建4x4的子图对象\n",
    "    fig, axes = plt.subplots(nrows=4, ncols=4, figsize=(8, 8))\n",
    "\n",
    "    # 遍历每个子图，绘制图像并添加子图标题\n",
    "    for i, ax in enumerate(axes.flat):\n",
    "        ax.imshow(images[i])\n",
    "        ax.axis('off') # 隐藏坐标轴\n",
    "\n",
    "        if hasattr(dataset, 'classes'): # 如果数据集有预定义的类别名称，使用该名称作为子图标题\n",
    "            ax.set_title(dataset.classes[labels[i]], fontsize=12)\n",
    "        else: # 否则使用类别索引作为子图标题\n",
    "            ax.set_title(labels[i], fontsize=12)\n",
    "\n",
    "    plt.show()"
   ]
  },
  {
   "cell_type": "code",
   "execution_count": null,
   "metadata": {},
   "outputs": [],
   "source": [
    "plot(dataset)"
   ]
  },
  {
   "cell_type": "code",
   "execution_count": null,
   "metadata": {},
   "outputs": [],
   "source": [
    "import os\n",
    "from PIL import Image # pip install Pillow\n",
    "from torch.utils.data import Dataset"
   ]
  },
  {
   "cell_type": "code",
   "execution_count": null,
   "metadata": {},
   "outputs": [],
   "source": [
    "class Flowers(Dataset):\n",
    "    def __init__(self, data_dir, transform=None):\n",
    "        self.image_paths = []\n",
    "        self.labels = []\n",
    "        self.transform = transform\n",
    "        \n",
    "        # 遍历数据集目录，获取所有图像文件的路径和标签\n",
    "        for filename in sorted(os.listdir(data_dir)):\n",
    "            image_path = os.path.join(data_dir, filename)\n",
    "            label = int(filename.split('_')[0])\n",
    "            self.image_paths.append(image_path)\n",
    "            self.labels.append(label)\n",
    "    \n",
    "    def __len__(self):\n",
    "        return len(self.labels)\n",
    "    \n",
    "    def __getitem__(self, idx):\n",
    "        # 加载图像数据和标签\n",
    "        image = Image.open(self.image_paths[idx]).convert('RGB')\n",
    "        label = self.labels[idx]\n",
    "        \n",
    "        # 对图像数据进行转换\n",
    "        if self.transform:\n",
    "            image = self.transform(image)\n",
    "        \n",
    "        # 将标签转换为PyTorch张量\n",
    "        label = torch.tensor(label, dtype=torch.long)\n",
    "        \n",
    "        return image, label"
   ]
  },
  {
   "cell_type": "code",
   "execution_count": null,
   "metadata": {},
   "outputs": [],
   "source": [
    "# 定义数据转换方法\n",
    "transform = transforms.Compose([\n",
    "    transforms.Resize((128, 128)), # 调整图像大小为128x128\n",
    "    transforms.ToTensor(),  # 将数据转换为张量\n",
    "])\n",
    "\n",
    "dataset = Flowers(flower_path + '/flowers/flowers', transform = transform)\n",
    "\n",
    "plot(dataset)"
   ]
  }
 ],
 "metadata": {
  "kernelspec": {
   "display_name": "all",
   "language": "python",
   "name": "python3"
  },
  "language_info": {
   "codemirror_mode": {
    "name": "ipython",
    "version": 3
   },
   "file_extension": ".py",
   "mimetype": "text/x-python",
   "name": "python",
   "nbconvert_exporter": "python",
   "pygments_lexer": "ipython3",
   "version": "3.11.10"
  }
 },
 "nbformat": 4,
 "nbformat_minor": 2
}
